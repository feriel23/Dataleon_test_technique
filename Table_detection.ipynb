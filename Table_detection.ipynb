{
 "cells": [
  {
   "cell_type": "code",
   "execution_count": 1,
   "id": "f5b74e25",
   "metadata": {},
   "outputs": [
    {
     "name": "stderr",
     "output_type": "stream",
     "text": [
      "c:\\Users\\FerielKadri\\AppData\\Local\\Programs\\Python\\Python310\\lib\\site-packages\\tqdm\\auto.py:21: TqdmWarning: IProgress not found. Please update jupyter and ipywidgets. See https://ipywidgets.readthedocs.io/en/stable/user_install.html\n",
      "  from .autonotebook import tqdm as notebook_tqdm\n"
     ]
    }
   ],
   "source": [
    "from transformers import DetrImageProcessor, DetrForObjectDetection\n",
    "import torch\n",
    "from PIL import Image, ImageDraw, ImageFont\n",
    "import requests\n",
    "from io import BytesIO"
   ]
  },
  {
   "cell_type": "code",
   "execution_count": 2,
   "id": "c178c35e",
   "metadata": {},
   "outputs": [],
   "source": [
    "class DocumentTableDetector:\n",
    "    def __init__(self):\n",
    "        \"\"\"Initialize the processor and model.\"\"\"\n",
    "        self.processor = DetrImageProcessor.from_pretrained(\"TahaDouaji/detr-doc-table-detection\")\n",
    "        self.model = DetrForObjectDetection.from_pretrained(\"TahaDouaji/detr-doc-table-detection\")\n",
    "        self.model.eval()  # Set the model to evaluation mode\n",
    "        \n",
    "    def load_image(self, image_path):\n",
    "        \"\"\"Helper function to load an image from a URL or local path.\"\"\"\n",
    "        try:\n",
    "            if image_path.startswith('http'):\n",
    "                response = requests.get(image_path)\n",
    "                image = Image.open(BytesIO(response.content))\n",
    "            else:\n",
    "                image = Image.open(image_path)\n",
    "            return image.convert(\"RGB\")\n",
    "        except Exception as e:\n",
    "            raise ValueError(f\"Error loading image: {str(e)}\")\n",
    "            \n",
    "    def predict(self, image_path):\n",
    "        \"\"\"Predict tables in an image.\"\"\"\n",
    "        try:\n",
    "                image = self.load_image(image_path)\n",
    "                inputs = self.processor(images=image, return_tensors=\"pt\")\n",
    "                outputs = self.model(**inputs)\n",
    "\n",
    "                # Converting outputs to COCO API and filtering by score threshold\n",
    "                target_sizes = torch.tensor([image.size[::-1]])\n",
    "                results = self.processor.post_process_object_detection(outputs, target_sizes=target_sizes, threshold=0.9)[0]\n",
    "\n",
    "                predictions = []\n",
    "                for score, label, box in zip(results[\"scores\"], results[\"labels\"], results[\"boxes\"]):\n",
    "                    box = [round(i, 2) for i in box.tolist()]\n",
    "                    predictions.append(\n",
    "                        {\n",
    "                            \"label\": self.model.config.id2label[label.item()],\n",
    "                            \"confidence\": round(score.item(), 3),\n",
    "                            \"box\": box\n",
    "                        }\n",
    "                    )\n",
    "                return predictions\n",
    "        except Exception as e:\n",
    "                raise ValueError(f\"Error processing image: {str(e)}\")\n",
    "                \n",
    "    def draw_boxes(self, predictions, image_path, show_scores=False):\n",
    "        \"\"\"\n",
    "        Draw bounding boxes around detected tables on the image.\n",
    "        Optionally, include detection confidence scores above the boxes.\n",
    "\n",
    "        Args:\n",
    "            predictions (list of dicts): List of predictions with scores, labels, and boxes.\n",
    "            image_path (str): Path to the image file.\n",
    "            show_scores (bool): If True, display the confidence scores above the bounding boxes.\n",
    "\n",
    "        Returns:\n",
    "            PIL.Image: The image with drawn bounding boxes.\n",
    "        \"\"\"\n",
    "        image = self.load_image(image_path)\n",
    "        draw = ImageDraw.Draw(image)\n",
    "\n",
    "        # Use a larger font for drawing text, increase the font size \n",
    "        try:\n",
    "            font = ImageFont.truetype(\"arial.ttf\", 70) \n",
    "        except IOError:\n",
    "            # Use a default font with larger size if arial.ttf is not available\n",
    "            font = ImageFont.load_default(size=20)\n",
    "\n",
    "        for prediction in predictions:\n",
    "            box = prediction[\"box\"]\n",
    "            score = prediction[\"confidence\"]\n",
    "            # Draw the bounding box\n",
    "            draw.rectangle(box, outline=\"red\", width=2)\n",
    "\n",
    "            # Optionally display the confidence score above the box\n",
    "            if show_scores:\n",
    "                score_text = f\"{score:.2f}\"\n",
    "                # Position the text above the box\n",
    "                text_position = (box[0], box[1] - 60)  # Adjust position slightly higher for larger text\n",
    "                draw.text(text_position, score_text, fill=\"blue\", font=font)\n",
    "\n",
    "        return image"
   ]
  },
  {
   "cell_type": "code",
   "execution_count": 3,
   "id": "a34c750f",
   "metadata": {},
   "outputs": [
    {
     "name": "stderr",
     "output_type": "stream",
     "text": [
      "The `max_size` parameter is deprecated and will be removed in v4.26. Please specify in `size['longest_edge'] instead`.\n",
      "Some weights of the model checkpoint at TahaDouaji/detr-doc-table-detection were not used when initializing DetrForObjectDetection: ['model.backbone.conv_encoder.model.layer1.0.downsample.1.num_batches_tracked', 'model.backbone.conv_encoder.model.layer2.0.downsample.1.num_batches_tracked', 'model.backbone.conv_encoder.model.layer3.0.downsample.1.num_batches_tracked', 'model.backbone.conv_encoder.model.layer4.0.downsample.1.num_batches_tracked']\n",
      "- This IS expected if you are initializing DetrForObjectDetection from the checkpoint of a model trained on another task or with another architecture (e.g. initializing a BertForSequenceClassification model from a BertForPreTraining model).\n",
      "- This IS NOT expected if you are initializing DetrForObjectDetection from the checkpoint of a model that you expect to be exactly identical (initializing a BertForSequenceClassification model from a BertForSequenceClassification model).\n"
     ]
    }
   ],
   "source": [
    "detector = DocumentTableDetector()\n",
    "image_path = 'invoice.jpg'\n",
    "predictions = detector.predict(image_path) \n",
    "\n",
    "try:\n",
    "    image_with_boxes = detector.draw_boxes(predictions, image_path, show_scores=True)\n",
    "    image_with_boxes.show()  \n",
    "except ValueError as error:\n",
    "    print(\"An error occurred:\", error)\n"
   ]
  },
  {
   "cell_type": "markdown",
   "id": "3bf7a214",
   "metadata": {},
   "source": []
  },
  {
   "cell_type": "code",
   "execution_count": null,
   "id": "ec1936ed",
   "metadata": {},
   "outputs": [],
   "source": []
  }
 ],
 "metadata": {
  "kernelspec": {
   "display_name": "Python 3",
   "language": "python",
   "name": "python3"
  },
  "language_info": {
   "codemirror_mode": {
    "name": "ipython",
    "version": 3
   },
   "file_extension": ".py",
   "mimetype": "text/x-python",
   "name": "python",
   "nbconvert_exporter": "python",
   "pygments_lexer": "ipython3",
   "version": "3.10.0"
  }
 },
 "nbformat": 4,
 "nbformat_minor": 5
}
